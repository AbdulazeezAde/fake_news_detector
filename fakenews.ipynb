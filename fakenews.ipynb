{
 "cells": [
  {
   "cell_type": "code",
   "execution_count": 1,
   "id": "669c3025",
   "metadata": {},
   "outputs": [
    {
     "name": "stderr",
     "output_type": "stream",
     "text": [
      "c:\\Users\\abdul\\AppData\\Local\\Programs\\Python\\Python313\\Lib\\site-packages\\tqdm\\auto.py:21: TqdmWarning: IProgress not found. Please update jupyter and ipywidgets. See https://ipywidgets.readthedocs.io/en/stable/user_install.html\n",
      "  from .autonotebook import tqdm as notebook_tqdm\n"
     ]
    }
   ],
   "source": [
    "import pandas as pd\n",
    "import re\n",
    "from pathlib import Path\n",
    "\n",
    "import joblib\n",
    "from sklearn.model_selection import train_test_split, GridSearchCV\n",
    "from sklearn.feature_extraction.text import TfidfVectorizer\n",
    "from xgboost import XGBClassifier\n",
    "from sklearn.pipeline import Pipeline\n",
    "from sklearn.metrics import classification_report, accuracy_score\n",
    "\n",
    "import torch\n",
    "from transformers import (\n",
    "    DistilBertTokenizerFast,\n",
    "    DistilBertForSequenceClassification,\n",
    "    Trainer,\n",
    "    TrainingArguments,\n",
    ")\n",
    "from datasets import Dataset\n",
    "import evaluate"
   ]
  },
  {
   "cell_type": "code",
   "execution_count": 2,
   "id": "49674fcc",
   "metadata": {},
   "outputs": [],
   "source": [
    "def load_and_preprocess(true_path: Path, fake_path: Path) -> pd.DataFrame:\n",
    "    df_true = pd.read_csv(true_path)\n",
    "    df_fake = pd.read_csv(fake_path)\n",
    "    df_true['label'] = 1\n",
    "    df_fake['label'] = 0\n",
    "    df = pd.concat([df_true, df_fake], ignore_index=True)\n",
    "    df['content'] = (df['title'].fillna('') + ' ' + df['text'].fillna('')).str.lower()\n",
    "    df['content'] = df['content'].str.replace(r'<[^>]+>', ' ', regex=True)\n",
    "    df['content'] = df['content'].str.replace(r'http\\S+|www\\.\\S+', ' ', regex=True)\n",
    "    df['content'] = df['content'].str.replace(r'[^a-z0-9\\s]', ' ', regex=True)\n",
    "    df['content'] = df['content'].str.replace(r'\\s+', ' ', regex=True).str.strip()\n",
    "    df = df[df['content'].str.len() > 0].reset_index(drop=True)\n",
    "    return df"
   ]
  },
  {
   "cell_type": "code",
   "execution_count": 3,
   "id": "6df12b64",
   "metadata": {},
   "outputs": [],
   "source": [
    "# Baseline with XGBoost\n",
    "def train_baseline(df: pd.DataFrame, model_path: Path):\n",
    "    X_train, X_test, y_train, y_test = train_test_split(\n",
    "        df['content'], df['label'], test_size=0.2, random_state=42\n",
    "    )\n",
    "\n",
    "    pipeline = Pipeline([\n",
    "        ('tfidf', TfidfVectorizer(stop_words='english', max_df=0.8, max_features=20000)),\n",
    "        ('xgb', XGBClassifier(use_label_encoder=False, eval_metric='logloss', n_estimators=200, max_depth=6))\n",
    "    ])\n",
    "\n",
    "    pipeline.fit(X_train, y_train)\n",
    "\n",
    "    preds = pipeline.predict(X_test)\n",
    "\n",
    "    print(\"Baseline XGBoost Accuracy:\", accuracy_score(y_test, preds))\n",
    "    print(classification_report(y_test, preds))\n",
    "\n",
    "    joblib.dump(pipeline, model_path / 'baseline_xgb.pkl')\n",
    "    return pipeline"
   ]
  },
  {
   "cell_type": "code",
   "execution_count": 4,
   "id": "6029b642",
   "metadata": {},
   "outputs": [],
   "source": [
    "# Fine-tuning with DistilBERT\n",
    "def train_transformer(df: pd.DataFrame, model_dir: Path):\n",
    "    # Prepare dataset\n",
    "    ds = Dataset.from_pandas(df[['content', 'label']])\n",
    "    tokenizer = DistilBertTokenizerFast.from_pretrained('distilbert-base-uncased')\n",
    "\n",
    "    def tokenize_fn(batch):\n",
    "        return tokenizer(batch['content'], padding=True, truncation=True)\n",
    "\n",
    "    ds = ds.train_test_split(test_size=0.2)\n",
    "    ds = ds.map(tokenize_fn, batched=True)\n",
    "    ds.set_format(type='torch', columns=['input_ids', 'attention_mask', 'label'])\n",
    "\n",
    "    model = DistilBertForSequenceClassification.from_pretrained(\n",
    "        'distilbert-base-uncased', num_labels=2\n",
    "    )\n",
    "\n",
    "    training_args = TrainingArguments(\n",
    "        output_dir=str(model_dir / 'distilbert_fake_news'),\n",
    "        num_train_epochs=3,\n",
    "        per_device_train_batch_size=16,\n",
    "        per_device_eval_batch_size=32,\n",
    "        evaluation_strategy='epoch',\n",
    "        save_strategy='epoch',\n",
    "        logging_dir=str(model_dir / 'logs'),\n",
    "        logging_steps=50,\n",
    "    )\n",
    "\n",
    "    accuracy = evaluate.load(\"accuracy\")\n",
    "\n",
    "    def compute_metrics(eval_pred):\n",
    "        logits, labels = eval_pred\n",
    "        preds = logits.argmax(axis=-1)\n",
    "        return accuracy.compute(predictions=preds, references=labels)\n",
    "\n",
    "    trainer = Trainer(\n",
    "        model=model,\n",
    "        args=training_args,\n",
    "        train_dataset=ds['train'],\n",
    "        eval_dataset=ds['test'],\n",
    "        compute_metrics=compute_metrics\n",
    "    )\n",
    "\n",
    "    trainer.train()\n",
    "\n",
    "    # Save full pipeline as joblib\n",
    "    model.save_pretrained(model_dir / 'distilbert_fake_news')\n",
    "    tokenizer.save_pretrained(model_dir / 'distilbert_fake_news')\n",
    "    joblib.dump((model, tokenizer), model_dir / 'distilbert_pipeline.pkl')\n",
    "\n",
    "    return model\n"
   ]
  },
  {
   "cell_type": "code",
   "execution_count": 5,
   "id": "a5c2d9bf",
   "metadata": {},
   "outputs": [
    {
     "name": "stdout",
     "output_type": "stream",
     "text": [
      "Dataset size after cleaning: 44889\n",
      "Training baseline XGBoost...\n"
     ]
    },
    {
     "name": "stderr",
     "output_type": "stream",
     "text": [
      "c:\\Users\\abdul\\AppData\\Local\\Programs\\Python\\Python313\\Lib\\site-packages\\xgboost\\training.py:183: UserWarning: [09:45:49] WARNING: C:\\actions-runner\\_work\\xgboost\\xgboost\\src\\learner.cc:738: \n",
      "Parameters: { \"use_label_encoder\" } are not used.\n",
      "\n",
      "  bst.update(dtrain, iteration=i, fobj=obj)\n"
     ]
    },
    {
     "name": "stdout",
     "output_type": "stream",
     "text": [
      "Baseline XGBoost Accuracy: 0.9982178658944085\n",
      "              precision    recall  f1-score   support\n",
      "\n",
      "           0       1.00      1.00      1.00      4677\n",
      "           1       1.00      1.00      1.00      4301\n",
      "\n",
      "    accuracy                           1.00      8978\n",
      "   macro avg       1.00      1.00      1.00      8978\n",
      "weighted avg       1.00      1.00      1.00      8978\n",
      "\n",
      "Fine-tuning DistilBERT...\n",
      "Fine-tuning DistilBERT...\n"
     ]
    },
    {
     "name": "stderr",
     "output_type": "stream",
     "text": [
      "Map: 100%|██████████| 35911/35911 [01:04<00:00, 553.24 examples/s]\n",
      "Map: 100%|██████████| 35911/35911 [01:04<00:00, 553.24 examples/s]\n",
      "Map: 100%|██████████| 8978/8978 [00:25<00:00, 354.02 examples/s]\n",
      "\n",
      "Some weights of DistilBertForSequenceClassification were not initialized from the model checkpoint at distilbert-base-uncased and are newly initialized: ['classifier.bias', 'classifier.weight', 'pre_classifier.bias', 'pre_classifier.weight']\n",
      "You should probably TRAIN this model on a down-stream task to be able to use it for predictions and inference.\n",
      "Some weights of DistilBertForSequenceClassification were not initialized from the model checkpoint at distilbert-base-uncased and are newly initialized: ['classifier.bias', 'classifier.weight', 'pre_classifier.bias', 'pre_classifier.weight']\n",
      "You should probably TRAIN this model on a down-stream task to be able to use it for predictions and inference.\n"
     ]
    },
    {
     "ename": "TypeError",
     "evalue": "TrainingArguments.__init__() got an unexpected keyword argument 'evaluation_strategy'",
     "output_type": "error",
     "traceback": [
      "\u001b[31m---------------------------------------------------------------------------\u001b[39m",
      "\u001b[31mTypeError\u001b[39m                                 Traceback (most recent call last)",
      "\u001b[36mCell\u001b[39m\u001b[36m \u001b[39m\u001b[32mIn[5]\u001b[39m\u001b[32m, line 16\u001b[39m\n\u001b[32m     14\u001b[39m \u001b[38;5;66;03m# Fine-tune transformer\u001b[39;00m\n\u001b[32m     15\u001b[39m \u001b[38;5;28mprint\u001b[39m(\u001b[33m\"\u001b[39m\u001b[33mFine-tuning DistilBERT...\u001b[39m\u001b[33m\"\u001b[39m)\n\u001b[32m---> \u001b[39m\u001b[32m16\u001b[39m \u001b[43mtrain_transformer\u001b[49m\u001b[43m(\u001b[49m\u001b[43mdf\u001b[49m\u001b[43m,\u001b[49m\u001b[43m \u001b[49m\u001b[43mMODEL_DIR\u001b[49m\u001b[43m)\u001b[49m\n",
      "\u001b[36mCell\u001b[39m\u001b[36m \u001b[39m\u001b[32mIn[4]\u001b[39m\u001b[32m, line 18\u001b[39m, in \u001b[36mtrain_transformer\u001b[39m\u001b[34m(df, model_dir)\u001b[39m\n\u001b[32m     12\u001b[39m ds.set_format(\u001b[38;5;28mtype\u001b[39m=\u001b[33m'\u001b[39m\u001b[33mtorch\u001b[39m\u001b[33m'\u001b[39m, columns=[\u001b[33m'\u001b[39m\u001b[33minput_ids\u001b[39m\u001b[33m'\u001b[39m, \u001b[33m'\u001b[39m\u001b[33mattention_mask\u001b[39m\u001b[33m'\u001b[39m, \u001b[33m'\u001b[39m\u001b[33mlabel\u001b[39m\u001b[33m'\u001b[39m])\n\u001b[32m     14\u001b[39m model = DistilBertForSequenceClassification.from_pretrained(\n\u001b[32m     15\u001b[39m     \u001b[33m'\u001b[39m\u001b[33mdistilbert-base-uncased\u001b[39m\u001b[33m'\u001b[39m, num_labels=\u001b[32m2\u001b[39m\n\u001b[32m     16\u001b[39m )\n\u001b[32m---> \u001b[39m\u001b[32m18\u001b[39m training_args = \u001b[43mTrainingArguments\u001b[49m\u001b[43m(\u001b[49m\n\u001b[32m     19\u001b[39m \u001b[43m    \u001b[49m\u001b[43moutput_dir\u001b[49m\u001b[43m=\u001b[49m\u001b[38;5;28;43mstr\u001b[39;49m\u001b[43m(\u001b[49m\u001b[43mmodel_dir\u001b[49m\u001b[43m \u001b[49m\u001b[43m/\u001b[49m\u001b[43m \u001b[49m\u001b[33;43m'\u001b[39;49m\u001b[33;43mdistilbert_fake_news\u001b[39;49m\u001b[33;43m'\u001b[39;49m\u001b[43m)\u001b[49m\u001b[43m,\u001b[49m\n\u001b[32m     20\u001b[39m \u001b[43m    \u001b[49m\u001b[43mnum_train_epochs\u001b[49m\u001b[43m=\u001b[49m\u001b[32;43m3\u001b[39;49m\u001b[43m,\u001b[49m\n\u001b[32m     21\u001b[39m \u001b[43m    \u001b[49m\u001b[43mper_device_train_batch_size\u001b[49m\u001b[43m=\u001b[49m\u001b[32;43m16\u001b[39;49m\u001b[43m,\u001b[49m\n\u001b[32m     22\u001b[39m \u001b[43m    \u001b[49m\u001b[43mper_device_eval_batch_size\u001b[49m\u001b[43m=\u001b[49m\u001b[32;43m32\u001b[39;49m\u001b[43m,\u001b[49m\n\u001b[32m     23\u001b[39m \u001b[43m    \u001b[49m\u001b[43mevaluation_strategy\u001b[49m\u001b[43m=\u001b[49m\u001b[33;43m'\u001b[39;49m\u001b[33;43mepoch\u001b[39;49m\u001b[33;43m'\u001b[39;49m\u001b[43m,\u001b[49m\n\u001b[32m     24\u001b[39m \u001b[43m    \u001b[49m\u001b[43msave_strategy\u001b[49m\u001b[43m=\u001b[49m\u001b[33;43m'\u001b[39;49m\u001b[33;43mepoch\u001b[39;49m\u001b[33;43m'\u001b[39;49m\u001b[43m,\u001b[49m\n\u001b[32m     25\u001b[39m \u001b[43m    \u001b[49m\u001b[43mlogging_dir\u001b[49m\u001b[43m=\u001b[49m\u001b[38;5;28;43mstr\u001b[39;49m\u001b[43m(\u001b[49m\u001b[43mmodel_dir\u001b[49m\u001b[43m \u001b[49m\u001b[43m/\u001b[49m\u001b[43m \u001b[49m\u001b[33;43m'\u001b[39;49m\u001b[33;43mlogs\u001b[39;49m\u001b[33;43m'\u001b[39;49m\u001b[43m)\u001b[49m\u001b[43m,\u001b[49m\n\u001b[32m     26\u001b[39m \u001b[43m    \u001b[49m\u001b[43mlogging_steps\u001b[49m\u001b[43m=\u001b[49m\u001b[32;43m50\u001b[39;49m\u001b[43m,\u001b[49m\n\u001b[32m     27\u001b[39m \u001b[43m\u001b[49m\u001b[43m)\u001b[49m\n\u001b[32m     29\u001b[39m accuracy = evaluate.load(\u001b[33m\"\u001b[39m\u001b[33maccuracy\u001b[39m\u001b[33m\"\u001b[39m)\n\u001b[32m     31\u001b[39m \u001b[38;5;28;01mdef\u001b[39;00m\u001b[38;5;250m \u001b[39m\u001b[34mcompute_metrics\u001b[39m(eval_pred):\n",
      "\u001b[31mTypeError\u001b[39m: TrainingArguments.__init__() got an unexpected keyword argument 'evaluation_strategy'"
     ]
    }
   ],
   "source": [
    "if __name__ == '__main__':\n",
    "    DATA_DIR = Path(r'C:\\Users\\abdul\\OneDrive\\Documents\\fake_news_detector')\n",
    "    MODEL_DIR = Path('model')\n",
    "    MODEL_DIR.mkdir(exist_ok=True)\n",
    "\n",
    "    # Load\n",
    "    df = load_and_preprocess(DATA_DIR / 'True.csv', DATA_DIR / 'Fake.csv')\n",
    "    print(f\"Dataset size after cleaning: {len(df)}\")\n",
    "\n",
    "    # Train baseline\n",
    "    print(\"Training baseline XGBoost...\")\n",
    "    train_baseline(df, MODEL_DIR)\n",
    "\n",
    "    # Fine-tune transformer\n",
    "    print(\"Fine-tuning DistilBERT...\")\n",
    "    train_transformer(df, MODEL_DIR)"
   ]
  },
  {
   "cell_type": "code",
   "execution_count": null,
   "id": "965b975e",
   "metadata": {},
   "outputs": [],
   "source": [
    "import joblib\n",
    "xgb_pipe = joblib.load(r'C:\\Users\\abdul\\OneDrive\\Documents\\fake_news_detector\\model\\baseline_xgb.pkl')"
   ]
  },
  {
   "cell_type": "code",
   "execution_count": 11,
   "id": "2e6b40f6",
   "metadata": {},
   "outputs": [
    {
     "name": "stdout",
     "output_type": "stream",
     "text": [
      "True\n"
     ]
    }
   ],
   "source": [
    "print(hasattr(xgb_pipe, 'predict_proba'))"
   ]
  },
  {
   "cell_type": "code",
   "execution_count": 13,
   "id": "7dad78cd",
   "metadata": {},
   "outputs": [
    {
     "name": "stdout",
     "output_type": "stream",
     "text": [
      "Probabilities (Fake, Real): [9.9992335e-01 7.6637240e-05]\n",
      "Prediction: Fake\n"
     ]
    }
   ],
   "source": [
    "# Example prediction using xgb_pipe and predict_proba\n",
    "sample_text = \"Trump is the President of USA\"\n",
    "if hasattr(xgb_pipe, 'predict_proba'):\n",
    "    proba = xgb_pipe.predict_proba([sample_text])[0]\n",
    "    print(f\"Probabilities (Fake, Real): {proba}\")\n",
    "    label = 'Real' if proba[1] >= 0.5 else 'Fake'\n",
    "    print(f\"Prediction: {label}\")\n",
    "else:\n",
    "    print(\"xgb_pipe does not have predict_proba method.\")"
   ]
  },
  {
   "cell_type": "code",
   "execution_count": null,
   "id": "a66ce6c2",
   "metadata": {},
   "outputs": [],
   "source": []
  }
 ],
 "metadata": {
  "kernelspec": {
   "display_name": "Python 3",
   "language": "python",
   "name": "python3"
  },
  "language_info": {
   "codemirror_mode": {
    "name": "ipython",
    "version": 3
   },
   "file_extension": ".py",
   "mimetype": "text/x-python",
   "name": "python",
   "nbconvert_exporter": "python",
   "pygments_lexer": "ipython3",
   "version": "3.13.3"
  }
 },
 "nbformat": 4,
 "nbformat_minor": 5
}
